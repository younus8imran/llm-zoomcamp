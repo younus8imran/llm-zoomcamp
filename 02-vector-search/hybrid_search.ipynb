{
 "cells": [
  {
   "cell_type": "code",
   "execution_count": 1,
   "id": "788cb2a1",
   "metadata": {
    "vscode": {
     "languageId": "plaintext"
    }
   },
   "outputs": [
    {
     "name": "stderr",
     "output_type": "stream",
     "text": [
      "/usr/local/python/3.12.1/lib/python3.12/site-packages/tqdm/auto.py:21: TqdmWarning: IProgress not found. Please update jupyter and ipywidgets. See https://ipywidgets.readthedocs.io/en/stable/user_install.html\n",
      "  from .autonotebook import tqdm as notebook_tqdm\n"
     ]
    }
   ],
   "source": [
    "from qdrant_client import QdrantClient, models"
   ]
  },
  {
   "cell_type": "code",
   "execution_count": 2,
   "id": "5c10de0b-dd78-4005-b4d4-67eb9268b224",
   "metadata": {},
   "outputs": [],
   "source": [
    "qd_client = QdrantClient('http://localhost:6333')"
   ]
  },
  {
   "cell_type": "code",
   "execution_count": 3,
   "id": "5c2590f3-57d8-431a-ad20-a47e5c155989",
   "metadata": {},
   "outputs": [
    {
     "data": {
      "text/plain": [
       "CollectionsResponse(collections=[CollectionDescription(name='zoomcamp-sparse'), CollectionDescription(name='zoomcamp-faq'), CollectionDescription(name='zoomcamp-rag')])"
      ]
     },
     "execution_count": 3,
     "metadata": {},
     "output_type": "execute_result"
    }
   ],
   "source": [
    "qd_client.get_collections()"
   ]
  },
  {
   "cell_type": "code",
   "execution_count": 4,
   "id": "e9c57d61-9a09-4e56-9c98-d11058db5d78",
   "metadata": {},
   "outputs": [],
   "source": [
    "import requests \n",
    "\n",
    "docs_url = \"https://github.com/alexeygrigorev/llm-rag-workshop/raw/main/notebooks/documents.json\"\n",
    "docs_response = requests.get(docs_url)\n",
    "if docs_response.status_code == 200:\n",
    "    documents_raw = docs_response.json()"
   ]
  },
  {
   "cell_type": "code",
   "execution_count": 5,
   "id": "264c8eb0-3c56-4f1c-89f4-a498fdaff94f",
   "metadata": {},
   "outputs": [
    {
     "name": "stdout",
     "output_type": "stream",
     "text": [
      "Collection zoomcamp-sparse already exists\n"
     ]
    }
   ],
   "source": [
    "collection_name = 'zoomcamp-sparse'\n",
    "\n",
    "if qd_client.collection_exists(collection_name):\n",
    "    print(f'Collection {collection_name} already exists')\n",
    "else:\n",
    "    qd_client.create_collection(\n",
    "        collection_name=collection_name,\n",
    "        sparse_vectors_config={\n",
    "            \"bm25\": models.SparseVectorParams(\n",
    "                modifier=models.Modifier.IDF,\n",
    "                index=models.SparseIndexParams(type=\"text\", field=\"text\")\n",
    "            )\n",
    "        }\n",
    "    )"
   ]
  },
  {
   "cell_type": "code",
   "execution_count": 6,
   "id": "3a8c8d24-9ee6-4b44-9ac3-2a9ed64e99e3",
   "metadata": {
    "scrolled": true
   },
   "outputs": [
    {
     "name": "stderr",
     "output_type": "stream",
     "text": [
      "Fetching 18 files: 100%|█████████████████████████████████████████████████████████████████████████████████████████████████| 18/18 [00:00<00:00, 25.01it/s]\n"
     ]
    },
    {
     "data": {
      "text/plain": [
       "UpdateResult(operation_id=4, status=<UpdateStatus.COMPLETED: 'completed'>)"
      ]
     },
     "execution_count": 6,
     "metadata": {},
     "output_type": "execute_result"
    }
   ],
   "source": [
    "import uuid\n",
    "\n",
    "qd_client.upsert(\n",
    "    collection_name=collection_name,\n",
    "    points = [\n",
    "        models.PointStruct(\n",
    "        id=uuid.uuid4().hex,\n",
    "        vector={\n",
    "            \"bm25\": models.Document(\n",
    "                text=doc['text'],\n",
    "                model=\"Qdrant/bm25\",\n",
    "            ),\n",
    "        },\n",
    "        payload={\n",
    "            'text': doc['text'],\n",
    "            'section': doc['section'],\n",
    "            'course': course['course']\n",
    "        }\n",
    "    )\n",
    "    for course in documents_raw\n",
    "    for doc in course['documents']\n",
    "    ]\n",
    ")"
   ]
  },
  {
   "cell_type": "code",
   "execution_count": 7,
   "id": "815540fb-298e-49a7-a822-306446121d36",
   "metadata": {},
   "outputs": [],
   "source": [
    "def search(query):\n",
    "    model_handle= \"Qdrant/bm25\"\n",
    "    results = qd_client.query_points(\n",
    "        collection_name=collection_name,\n",
    "        query=models.Document(\n",
    "            text=query,\n",
    "            model=model_handle\n",
    "        ),\n",
    "        using=\"bm25\",  \n",
    "        limit=1,\n",
    "        with_payload=True\n",
    "    )\n",
    "    \n",
    "    return results.points"
   ]
  },
  {
   "cell_type": "code",
   "execution_count": 8,
   "id": "6ae969fa-f991-4fc3-8051-11036ee019de",
   "metadata": {
    "scrolled": true
   },
   "outputs": [],
   "source": [
    "result = search('the course has already started? Can I still enroll?')"
   ]
  },
  {
   "cell_type": "code",
   "execution_count": 9,
   "id": "71acf2ea-5fc3-41a9-bb36-1827670e868c",
   "metadata": {},
   "outputs": [
    {
     "data": {
      "text/plain": [
       "\"Solution:\\nCheck if you’re on the Developer Plan. As per the prerequisites, you'll need to be enrolled in the Team Plan or Enterprise Plan to set up a CI Job in dbt Cloud.\\nSo If you're on the Developer Plan, you'll need to upgrade to utilise CI Jobs.\\nNote from another user: I’m in the Team Plan (trial period) but the option is still disabled. What worked for me instead was this. It works for the Developer (free) plan.\""
      ]
     },
     "execution_count": 9,
     "metadata": {},
     "output_type": "execute_result"
    }
   ],
   "source": [
    "result[0].payload['text']"
   ]
  },
  {
   "cell_type": "code",
   "execution_count": 10,
   "id": "e7485450-b22d-4761-b99c-db8d7c5998cd",
   "metadata": {},
   "outputs": [
    {
     "data": {
      "text/plain": [
       "15.356087"
      ]
     },
     "execution_count": 10,
     "metadata": {},
     "output_type": "execute_result"
    }
   ],
   "source": [
    "result[0].score"
   ]
  },
  {
   "cell_type": "code",
   "execution_count": 11,
   "id": "fa7a6535-869a-4696-99c7-d2f63d12bd86",
   "metadata": {},
   "outputs": [
    {
     "name": "stdout",
     "output_type": "stream",
     "text": [
      "{\n",
      "  \"text\": \"Even though the upload works using aws cli and boto3 in Jupyter notebook.\\nSolution set the AWS_PROFILE environment variable (the default profile is called default)\",\n",
      "  \"section\": \"Module 4: Deployment\",\n",
      "  \"question\": \"Uploading to s3 fails with An error occurred (InvalidAccessKeyId) when calling the PutObject operation: The AWS Access Key Id you provided does not exist in our records.\\\"\"\n",
      "}\n"
     ]
    }
   ],
   "source": [
    "import random \n",
    "import json \n",
    "\n",
    "random.seed(202506)\n",
    "\n",
    "course = random.choice(documents_raw)\n",
    "course_piece = random.choice(course[\"documents\"])\n",
    "print(json.dumps(course_piece, indent=2))"
   ]
  },
  {
   "cell_type": "code",
   "execution_count": null,
   "id": "e2b8e7a1-f834-45aa-997c-bceb89d603bb",
   "metadata": {},
   "outputs": [],
   "source": []
  }
 ],
 "metadata": {
  "kernelspec": {
   "display_name": "Python 3 (ipykernel)",
   "language": "python",
   "name": "python3"
  },
  "language_info": {
   "codemirror_mode": {
    "name": "ipython",
    "version": 3
   },
   "file_extension": ".py",
   "mimetype": "text/x-python",
   "name": "python",
   "nbconvert_exporter": "python",
   "pygments_lexer": "ipython3",
   "version": "3.12.1"
  }
 },
 "nbformat": 4,
 "nbformat_minor": 5
}
