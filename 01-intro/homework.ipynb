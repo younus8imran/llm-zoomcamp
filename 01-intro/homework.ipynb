{
 "cells": [
  {
   "cell_type": "code",
   "execution_count": 12,
   "id": "fad38492-d72c-4353-bc6a-19bd35748d20",
   "metadata": {},
   "outputs": [],
   "source": [
    "import os \n",
    "from mistralai import Mistral"
   ]
  },
  {
   "cell_type": "code",
   "execution_count": 17,
   "id": "1490f79f-487a-48e5-8b8e-6f239dcd700a",
   "metadata": {},
   "outputs": [],
   "source": [
    "# api_key = os.environ.get(\"MISTRAL_API_KEY\")\n",
    "api_key = \"4JwtBsMx2DGAj0kfL2JpVn3j4f3vCkSI\""
   ]
  },
  {
   "cell_type": "code",
   "execution_count": 18,
   "id": "490089ee-1151-4ec7-9cc5-832b7aca8c1f",
   "metadata": {},
   "outputs": [],
   "source": [
    "model = \"mistral-large-latest\""
   ]
  },
  {
   "cell_type": "code",
   "execution_count": 20,
   "id": "47ba2c50-3565-4767-8639-906392d55649",
   "metadata": {},
   "outputs": [],
   "source": [
    "client = Mistral(api_key=api_key)"
   ]
  },
  {
   "cell_type": "code",
   "execution_count": 24,
   "id": "b7820129-8bd2-46e3-93bd-149492978057",
   "metadata": {},
   "outputs": [],
   "source": [
    "chat_response = client.chat.complete(\n",
    "    model=model,\n",
    "    messages=[\n",
    "    {\n",
    "        \"role\": \"user\",\n",
    "        \"content\": \"is it too late to join the course?\"\n",
    "    },\n",
    "    ]\n",
    ")            "
   ]
  },
  {
   "cell_type": "code",
   "execution_count": 32,
   "id": "6b303876-69cc-4ac7-9318-a1bce229d1aa",
   "metadata": {},
   "outputs": [
    {
     "data": {
      "text/plain": [
       "\"Whether it's too late to join a course depends on several factors, including the specific course, the institution or platform offering it, and their policies. Here are some steps you can take to determine if it's too late:\\n\\n1. **Check the Course Website or Platform**: Look for information on enrollment deadlines, late registration policies, or any special provisions for joining after the official start date.\\n\\n2. **Contact the Instructor or Administrator**: Reach out directly to the course instructor or the administrative office. They can provide you with the most accurate information and may be able to make exceptions or provide alternative options.\\n\\n3. **Review the Course Syllabus**: If available, the syllabus often includes important dates and deadlines, including any cut-off dates for enrollment.\\n\\n4. **Check for Waitlists**: Some courses have waitlists, and if you're on the waitlist, you might still be able to join if a spot opens up.\\n\\n5. **Consider Alternatives**: If it's too late to join the current session, look for similar courses that are still accepting enrollments or wait for the next offering of the same course.\\n\\n6. **Online Courses**: If the course is online, there might be more flexibility in joining late, especially if it's a self-paced course.\\n\\nBy taking these steps, you can determine whether it's too late to join the course and explore any alternative options available.\""
      ]
     },
     "execution_count": 32,
     "metadata": {},
     "output_type": "execute_result"
    }
   ],
   "source": [
    "chat_response.choices[0].message.content"
   ]
  },
  {
   "cell_type": "code",
   "execution_count": null,
   "id": "c23da1d1-c5c0-4726-8ae8-0c67089981c3",
   "metadata": {},
   "outputs": [],
   "source": []
  }
 ],
 "metadata": {
  "kernelspec": {
   "display_name": "Python 3 (ipykernel)",
   "language": "python",
   "name": "python3"
  },
  "language_info": {
   "codemirror_mode": {
    "name": "ipython",
    "version": 3
   },
   "file_extension": ".py",
   "mimetype": "text/x-python",
   "name": "python",
   "nbconvert_exporter": "python",
   "pygments_lexer": "ipython3",
   "version": "3.12.1"
  }
 },
 "nbformat": 4,
 "nbformat_minor": 5
}
